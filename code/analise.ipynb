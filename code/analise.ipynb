{
 "cells": [
  {
   "cell_type": "code",
   "execution_count": 1,
   "metadata": {},
   "outputs": [],
   "source": [
    "import pandas as pd\n",
    "low_memory=False\n",
    "\n",
    "import numpy as np\n",
    "import matplotlib.pyplot as plt"
   ]
  },
  {
   "cell_type": "code",
   "execution_count": 2,
   "metadata": {},
   "outputs": [],
   "source": [
    "dicionario = \"\"\"\n",
    "C = Nome do Estabelecimento\n",
    "K = Município\n",
    "\n",
    "N = 1.1 Estabelecimento originalmente destinado a pessoa privadas de liberdade do sexo\n",
    "\n",
    "# 1.3 Capacidade do estabelecimento\n",
    "AL = 1.3 Capacidade do estabelecimento | Masculino | Total\n",
    "AM = 1.3 Capacidade do estabelecimento | Feminino | Total\n",
    "AW = 1.5 Quais serviços são terceirizados? | Saúde\n",
    "\n",
    "PT = 4.1 População prisional | Total\n",
    "\n",
    "# 2.4 Módulo de saúde\n",
    "BO = 2.4 Módulo de saúde | Consultório médico | Quantidade\n",
    "BU = 2.4 Módulo de saúde | Sala de coleta de material para laboratório | Quantidade\n",
    "BX = 2.4 Módulo de saúde | Sala de curativos, suturas, vacinas e posto de enfermagem | Quantidade\n",
    "CA = 2.4 Módulo de saúde | Cela de observação | Quantidade\n",
    "CD = 2.4 Módulo de saúde | Cela de enfermaria com solário | Quantidade\n",
    "CG = 2.4 Módulo de saúde | Sanitário para pacientes | Quantidade\n",
    "CJ = 2.4 Módulo de saúde | Sanitários para equipe de saúde | Quantidade\n",
    "CM = 2.4 Módulo de saúde | Farmácia ou sala de estoque/ dispensação de medicamentos | Quantidade\n",
    "CP = 2.4 Módulo de saúde | Central de material esterilizado/ expurgo | Quantidade\n",
    "CS = 2.4 Módulo de saúde | Sala de lavagem e descontaminação | Quantidade\n",
    "CV = 2.4 Módulo de saúde | Sala de esterilização | Quantidade\n",
    "DB = 2.4 Módulo de saúde | Depósito de material de limpeza - DML | Quantidade\n",
    "DE = 2.4 Módulo de saúde | Sala de atendimento clínico multiprofissional | Quantidade\n",
    "DH = 2.4 Módulo de saúde | Sala de procedimentos | Quantidade\n",
    "DK = 2.4 Módulo de saúde | Sala de raio x | Quantidade\n",
    "DN = 2.4 Módulo de saúde | Laboratório de diagnóstico | Quantidade\n",
    "DT = 2.4 Módulo de saúde | Solário para pacientes | Quantidade\n",
    "DW = 2.4 Módulo de saúde | Outro(s). Qual(is)? | Quantidade\n",
    "\n",
    "# 5.1 Quantidade de pessoas privadas de liberdade por faixa etária\n",
    "RF = 5.1 Quantidade de pessoas privadas de liberdade por faixa etária | 18 a 24 anos | Total\n",
    "RI = 5.1 Quantidade de pessoas privadas de liberdade por faixa etária | 25 a 29 anos | Total\n",
    "RL = 5.1 Quantidade de pessoas privadas de liberdade por faixa etária | 30 a 34 anos | Total\n",
    "RO = 5.1 Quantidade de pessoas privadas de liberdade por faixa etária | 35 a 45 anos | Total\n",
    "RR = 5.1 Quantidade de pessoas privadas de liberdade por faixa etária | 46 a 60 anos | Total\n",
    "RU = 5.1 Quantidade de pessoas privadas de liberdade por faixa etária | 61 a 70 anos | Total\n",
    "RX = 5.1 Quantidade de pessoas privadas de liberdade por faixa etária | Mais de 70 anos | Total\n",
    "\n",
    "# 3.1 Quantidade de Servidores que atuam no Sistema Prisional\n",
    "HM = 3.1 Quantidade de Servidores que atuam no Sistema Prisional | Enfermeiros | Total\n",
    "HW = 3.1 Quantidade de Servidores que atuam no Sistema Prisional | Auxiliar e técnico de enfermagem | Total\n",
    "IG = 3.1 Quantidade de Servidores que atuam no Sistema Prisional | Psicólogos | Total\n",
    "KE = 3.1 Quantidade de Servidores que atuam no Sistema Prisional | Médicos - clínicos gerais | Total\n",
    "KO = 3.1 Quantidade de Servidores que atuam no Sistema Prisional | Médicos – ginecologistas | Total\n",
    "KY = 3.1 Quantidade de Servidores que atuam no Sistema Prisional | Médicos – psiquiatras | Total\n",
    "LI = 3.1 Quantidade de Servidores que atuam no Sistema Prisional | Médicos - outras especialidades | Total\n",
    "\"\"\""
   ]
  },
  {
   "cell_type": "code",
   "execution_count": 3,
   "metadata": {},
   "outputs": [],
   "source": [
    "cols = \"\"\"\n",
    "    C, K, N, AW, AL, AM, PT,\n",
    "    BO, BU, BX, CA, CD, CG, CJ, CM, CP, CS, CV, DB, DE, DH, DK, DN, DT, DW,\n",
    "    RF, RI, RL, RO, RR, RU, RX, HM, HW, IG, KE, KO, KY, LI\n",
    "    \"\"\""
   ]
  },
  {
   "cell_type": "code",
   "execution_count": 4,
   "metadata": {},
   "outputs": [],
   "source": [
    "df_jan_jun_2018 = pd.read_excel(\n",
    "    '../resources/infopen-jan-jun-2018.xlsx',\n",
    "    usecols=cols\n",
    ")\n",
    "\n",
    "df_jul_dez_2018 = pd.read_excel(\n",
    "    '../resources/infopen-jul-dez-2018.xlsx',\n",
    "    usecols=cols\n",
    ")\n",
    "\n",
    "df_jan_jun_2019 = pd.read_excel(\n",
    "    '../resources/infopen-jan-jun-2019.xlsx',\n",
    "    usecols=cols\n",
    ")\n",
    "\n",
    "df_jul_dez_2019 = pd.read_excel(\n",
    "    '../resources/infopen-jul-dez-2019.xlsx',\n",
    "    usecols=cols\n",
    ")"
   ]
  },
  {
   "cell_type": "code",
   "execution_count": 5,
   "metadata": {},
   "outputs": [],
   "source": [
    "df_jan_jun_2018['ano'] = 2018\n",
    "df_jul_dez_2018['ano'] = 2018\n",
    "df_jan_jun_2019['ano'] = 2019\n",
    "df_jul_dez_2019['ano'] = 2019"
   ]
  },
  {
   "cell_type": "code",
   "execution_count": 6,
   "metadata": {},
   "outputs": [],
   "source": [
    "# df_jan_jun_2018[df_jan_jun_2018['Município'] == 'São José dos Campos']\n",
    "# df_jul_dez_2018[df_jul_dez_2018['Município'] == 'São José dos Campos']\n",
    "# df_jan_jun_2019[df_jan_jun_2019['Município'] == 'São José dos Campos']\n",
    "# df_jul_dez_2019[df_jul_dez_2019['Município'] == 'São José dos Campos']"
   ]
  },
  {
   "cell_type": "code",
   "execution_count": 7,
   "metadata": {},
   "outputs": [],
   "source": [
    "frames = [df_jan_jun_2018, df_jul_dez_2018, df_jan_jun_2019, df_jul_dez_2019]\n",
    "df_total = pd.concat(frames)"
   ]
  },
  {
   "cell_type": "code",
   "execution_count": 8,
   "metadata": {},
   "outputs": [],
   "source": [
    "df_total.rename(\n",
    "    columns={\n",
    "        'Nome do Estabelecimento': 'nome_estabelecimento',\n",
    "        'Município': 'municipio',\n",
    "        '1.1 Estabelecimento originalmente destinado a pessoa privadas de liberdade do sexo': 'destinado_a_pessoa_do_sexo',\n",
    "        '1.3 Capacidade do estabelecimento | Masculino | Total': 'lotacao_total_masculino',\n",
    "        '1.3 Capacidade do estabelecimento | Feminino | Total': 'lotacao_total_feminino',\n",
    "        '1.5 Quais serviços são terceirizados? | Saúde': 'servicos_saude_terceirizados',\n",
    "\n",
    "        '2.4 Módulo de saúde | Consultório médico | Quantidade': 'modulo_saude_quantidade_consultorio_medico',\n",
    "        '2.4 Módulo de saúde | Sala de coleta de material para laboratório | Quantidade': 'modulo_saude_quantidade_sala_coleta_laboratorio',\n",
    "        '2.4 Módulo de saúde | Sala de curativos, suturas, vacinas e posto de enfermagem | Quantidade': 'modulo_saude_quantidade_posto_enfermagem',\n",
    "        '2.4 Módulo de saúde | Cela de observação | Quantidade': 'modulo_saude_quantidade_cela_observacao',\n",
    "        '2.4 Módulo de saúde | Cela de enfermaria com solário | Quantidade': 'modulo_saude_quantidade_enfermaria_com_solario',\n",
    "        '2.4 Módulo de saúde | Sanitário para pacientes | Quantidade': 'modulo_saude_quantidade_sanitario_pacientes',\n",
    "        '2.4 Módulo de saúde | Sanitários para equipe de saúde | Quantidade': 'modulo_saude_quantidade_sanitario_equipe_saude',\n",
    "        '2.4 Módulo de saúde | Farmácia ou sala de estoque/ dispensação de medicamentos | Quantidade': 'modulo_saude_quantidade_dispensacao_medicamentos',\n",
    "        '2.4 Módulo de saúde | Central de material esterilizado/ expurgo | Quantidade': 'modulo_saude_quantidade_expurgo',\n",
    "        '2.4 Módulo de saúde | Sala de lavagem e descontaminação | Quantidade': 'modulo_saude_quantidade_sala_descontaminacao',\n",
    "        '2.4 Módulo de saúde | Sala de esterilização | Quantidade': 'modulo_saude_quantidade_sala_esterilizacao',\n",
    "        '2.4 Módulo de saúde | Depósito de material de limpeza - DML | Quantidade': 'modulo_saude_quantidade_deposito_material_limpeza',\n",
    "        '2.4 Módulo de saúde | Sala de atendimento clínico multiprofissional | Quantidade': 'modulo_saude_quantidade_sala_atendimento_clinico_multiprofissional',\n",
    "        '2.4 Módulo de saúde | Sala de procedimentos | Quantidade': 'modulo_saude_quantidade_sala_procedimentos',\n",
    "        '2.4 Módulo de saúde | Sala de raio x | Quantidade': 'modulo_saude_quantidade_sala_raio_x',\n",
    "        '2.4 Módulo de saúde | Laboratório de diagnóstico | Quantidade': 'modulo_saude_quantidade_laboratorio_diagnostico',\n",
    "        '2.4 Módulo de saúde | Solário para pacientes | Quantidade': 'modulo_saude_quantidade_solario_pacientes',\n",
    "        '2.4 Módulo de saúde | Outro(s). Qual(is)? | Quantidade': 'modulo_saude_quantidade_outros',\n",
    "\n",
    "        '3.1 Quantidade de Servidores que atuam no Sistema Prisional | Médicos - outras especialidades | Total': 'quantidade_medicos_que_atuam_sistema_prisional',\n",
    "        '4.1 População prisional | Total': 'quantidade_populacao_prisional',\n",
    "        '5.1 Quantidade de pessoas privadas de liberdade por faixa etária | 18 a 24 anos | Total': 'quantidade_faixa_etaria_18_24_anos',\n",
    "        '5.1 Quantidade de pessoas privadas de liberdade por faixa etária | 25 a 29 anos | Total': 'quantidade_faixa_etaria_25_29_anos',\n",
    "        '5.1 Quantidade de pessoas privadas de liberdade por faixa etária | 30 a 34 anos | Total': 'quantidade_faixa_etaria_30_34_anos',\n",
    "        '5.1 Quantidade de pessoas privadas de liberdade por faixa etária | 35 a 45 anos | Total': 'quantidade_faixa_etaria_35_45_anos',\n",
    "        '5.1 Quantidade de pessoas privadas de liberdade por faixa etária | 46 a 60 anos | Total': 'quantidade_faixa_etaria_46_60_anos',\n",
    "        '5.1 Quantidade de pessoas privadas de liberdade por faixa etária | 61 a 70 anos | Total': 'quantidade_faixa_etaria_61_70_anos',\n",
    "        '5.1 Quantidade de pessoas privadas de liberdade por faixa etária | Mais de 70 anos | Total': 'quantidade_faixa_etaria_mais_70_anos',\n",
    "    },\n",
    "    inplace=True\n",
    ")"
   ]
  },
  {
   "cell_type": "code",
   "execution_count": null,
   "metadata": {},
   "outputs": [],
   "source": []
  },
  {
   "cell_type": "code",
   "execution_count": 9,
   "metadata": {},
   "outputs": [],
   "source": [
    "df_total_query = df_total.query(\n",
    "    'municipio == \"São José dos Campos\" and \\\n",
    "    nome_estabelecimento == \"CDP de São José dos Campos\"'\n",
    ")"
   ]
  },
  {
   "cell_type": "code",
   "execution_count": 10,
   "metadata": {},
   "outputs": [
    {
     "output_type": "execute_result",
     "data": {
      "text/plain": "            nome_estabelecimento            municipio  \\\n1309  CDP de São José dos Campos  São José dos Campos   \n1311  CDP de São José dos Campos  São José dos Campos   \n1207  CDP de São José dos Campos  São José dos Campos   \n1228  CDP de São José dos Campos  São José dos Campos   \n\n     destinado_a_pessoa_do_sexo  lotacao_total_masculino  \\\n1309                  Masculino                    525.0   \n1311                  Masculino                    525.0   \n1207                  Masculino                    525.0   \n1228                  Masculino                    525.0   \n\n      lotacao_total_feminino servicos_saude_terceirizados  \\\n1309                     NaN                          Não   \n1311                     NaN                          Não   \n1207                     NaN                          Não   \n1228                     NaN                          Não   \n\n      modulo_saude_quantidade_consultorio_medico  \\\n1309                                         1.0   \n1311                                         1.0   \n1207                                         1.0   \n1228                                         1.0   \n\n      modulo_saude_quantidade_sala_coleta_laboratorio  \\\n1309                                              1.0   \n1311                                              1.0   \n1207                                              1.0   \n1228                                              1.0   \n\n      modulo_saude_quantidade_posto_enfermagem  \\\n1309                                       1.0   \n1311                                       1.0   \n1207                                       1.0   \n1228                                       1.0   \n\n      modulo_saude_quantidade_cela_observacao  ...   \\\n1309                                      2.0  ...    \n1311                                      2.0  ...    \n1207                                      2.0  ...    \n1228                                      2.0  ...    \n\n      quantidade_medicos_que_atuam_sistema_prisional  \\\n1309                                             0.0   \n1311                                             0.0   \n1207                                             NaN   \n1228                                             NaN   \n\n      quantidade_populacao_prisional  quantidade_faixa_etaria_18_24_anos  \\\n1309                            1022                               494.0   \n1311                             900                               410.0   \n1207                             934                               393.0   \n1228                             827                               367.0   \n\n      quantidade_faixa_etaria_25_29_anos  quantidade_faixa_etaria_30_34_anos  \\\n1309                               205.0                               163.0   \n1311                               170.0                               155.0   \n1207                               184.0                               178.0   \n1228                               161.0                               136.0   \n\n      quantidade_faixa_etaria_35_45  quantidade_faixa_etaria_46_60_anos  \\\n1309                          121.0                                37.0   \n1311                          128.0                                36.0   \n1207                          138.0                                40.0   \n1228                          135.0                                26.0   \n\n      quantidade_faixa_etaria_61_70_anos  \\\n1309                                 2.0   \n1311                                 1.0   \n1207                                 1.0   \n1228                                 2.0   \n\n      quantidade_faixa_etaria_mais_70_anos   ano  \n1309                                   0.0  2018  \n1311                                   0.0  2018  \n1207                                   0.0  2019  \n1228                                   0.0  2019  \n\n[4 rows x 40 columns]",
      "text/html": "<div>\n<style scoped>\n    .dataframe tbody tr th:only-of-type {\n        vertical-align: middle;\n    }\n\n    .dataframe tbody tr th {\n        vertical-align: top;\n    }\n\n    .dataframe thead th {\n        text-align: right;\n    }\n</style>\n<table border=\"1\" class=\"dataframe\">\n  <thead>\n    <tr style=\"text-align: right;\">\n      <th></th>\n      <th>nome_estabelecimento</th>\n      <th>municipio</th>\n      <th>destinado_a_pessoa_do_sexo</th>\n      <th>lotacao_total_masculino</th>\n      <th>lotacao_total_feminino</th>\n      <th>servicos_saude_terceirizados</th>\n      <th>modulo_saude_quantidade_consultorio_medico</th>\n      <th>modulo_saude_quantidade_sala_coleta_laboratorio</th>\n      <th>modulo_saude_quantidade_posto_enfermagem</th>\n      <th>modulo_saude_quantidade_cela_observacao</th>\n      <th>...</th>\n      <th>quantidade_medicos_que_atuam_sistema_prisional</th>\n      <th>quantidade_populacao_prisional</th>\n      <th>quantidade_faixa_etaria_18_24_anos</th>\n      <th>quantidade_faixa_etaria_25_29_anos</th>\n      <th>quantidade_faixa_etaria_30_34_anos</th>\n      <th>quantidade_faixa_etaria_35_45</th>\n      <th>quantidade_faixa_etaria_46_60_anos</th>\n      <th>quantidade_faixa_etaria_61_70_anos</th>\n      <th>quantidade_faixa_etaria_mais_70_anos</th>\n      <th>ano</th>\n    </tr>\n  </thead>\n  <tbody>\n    <tr>\n      <th>1309</th>\n      <td>CDP de São José dos Campos</td>\n      <td>São José dos Campos</td>\n      <td>Masculino</td>\n      <td>525.0</td>\n      <td>NaN</td>\n      <td>Não</td>\n      <td>1.0</td>\n      <td>1.0</td>\n      <td>1.0</td>\n      <td>2.0</td>\n      <td>...</td>\n      <td>0.0</td>\n      <td>1022</td>\n      <td>494.0</td>\n      <td>205.0</td>\n      <td>163.0</td>\n      <td>121.0</td>\n      <td>37.0</td>\n      <td>2.0</td>\n      <td>0.0</td>\n      <td>2018</td>\n    </tr>\n    <tr>\n      <th>1311</th>\n      <td>CDP de São José dos Campos</td>\n      <td>São José dos Campos</td>\n      <td>Masculino</td>\n      <td>525.0</td>\n      <td>NaN</td>\n      <td>Não</td>\n      <td>1.0</td>\n      <td>1.0</td>\n      <td>1.0</td>\n      <td>2.0</td>\n      <td>...</td>\n      <td>0.0</td>\n      <td>900</td>\n      <td>410.0</td>\n      <td>170.0</td>\n      <td>155.0</td>\n      <td>128.0</td>\n      <td>36.0</td>\n      <td>1.0</td>\n      <td>0.0</td>\n      <td>2018</td>\n    </tr>\n    <tr>\n      <th>1207</th>\n      <td>CDP de São José dos Campos</td>\n      <td>São José dos Campos</td>\n      <td>Masculino</td>\n      <td>525.0</td>\n      <td>NaN</td>\n      <td>Não</td>\n      <td>1.0</td>\n      <td>1.0</td>\n      <td>1.0</td>\n      <td>2.0</td>\n      <td>...</td>\n      <td>NaN</td>\n      <td>934</td>\n      <td>393.0</td>\n      <td>184.0</td>\n      <td>178.0</td>\n      <td>138.0</td>\n      <td>40.0</td>\n      <td>1.0</td>\n      <td>0.0</td>\n      <td>2019</td>\n    </tr>\n    <tr>\n      <th>1228</th>\n      <td>CDP de São José dos Campos</td>\n      <td>São José dos Campos</td>\n      <td>Masculino</td>\n      <td>525.0</td>\n      <td>NaN</td>\n      <td>Não</td>\n      <td>1.0</td>\n      <td>1.0</td>\n      <td>1.0</td>\n      <td>2.0</td>\n      <td>...</td>\n      <td>NaN</td>\n      <td>827</td>\n      <td>367.0</td>\n      <td>161.0</td>\n      <td>136.0</td>\n      <td>135.0</td>\n      <td>26.0</td>\n      <td>2.0</td>\n      <td>0.0</td>\n      <td>2019</td>\n    </tr>\n  </tbody>\n</table>\n<p>4 rows × 40 columns</p>\n</div>"
     },
     "metadata": {},
     "execution_count": 10
    }
   ],
   "source": [
    "df_total_query"
   ]
  },
  {
   "cell_type": "code",
   "execution_count": 74,
   "metadata": {},
   "outputs": [
    {
     "output_type": "execute_result",
     "data": {
      "text/plain": "ano   quantidade_populacao_prisional\n2018  900                               1\n      1022                              1\n2019  827                               1\n      934                               1\nName: quantidade_populacao_prisional, dtype: int64"
     },
     "metadata": {},
     "execution_count": 74
    }
   ],
   "source": [
    "df_total_query.groupby('ano')['quantidade_populacao_prisional'].value_counts()"
   ]
  },
  {
   "cell_type": "code",
   "execution_count": 106,
   "metadata": {
    "tags": []
   },
   "outputs": [
    {
     "output_type": "stream",
     "name": "stdout",
     "text": "Quantidade de pessoal privadas de liberdade por faixa etária em 2018 e 2019\n"
    },
    {
     "output_type": "execute_result",
     "data": {
      "text/plain": "ano\n2018    904.0\nName: quantidade_faixa_etaria_18_24_anos, dtype: float64"
     },
     "metadata": {},
     "execution_count": 106
    }
   ],
   "source": [
    "print('Quantidade de pessoal privadas de liberdade por faixa etária em 2018 e 2019')\n",
    "df_total_query.query('ano == 2018').groupby('ano')['quantidade_faixa_etaria_18_24_anos'].agg('sum')"
   ]
  },
  {
   "cell_type": "code",
   "execution_count": 117,
   "metadata": {},
   "outputs": [
    {
     "output_type": "execute_result",
     "data": {
      "text/plain": "      18 a 24 anos  25 a 29 anos  30 a 34 anos  35 a 45 anos  61 a 70 anos  \\\nano                                                                          \n2018         904.0         375.0         318.0         249.0           3.0   \n\n      mais de 70 anos  \nano                    \n2018              0.0  ",
      "text/html": "<div>\n<style scoped>\n    .dataframe tbody tr th:only-of-type {\n        vertical-align: middle;\n    }\n\n    .dataframe tbody tr th {\n        vertical-align: top;\n    }\n\n    .dataframe thead th {\n        text-align: right;\n    }\n</style>\n<table border=\"1\" class=\"dataframe\">\n  <thead>\n    <tr style=\"text-align: right;\">\n      <th></th>\n      <th>18 a 24 anos</th>\n      <th>25 a 29 anos</th>\n      <th>30 a 34 anos</th>\n      <th>35 a 45 anos</th>\n      <th>61 a 70 anos</th>\n      <th>mais de 70 anos</th>\n    </tr>\n    <tr>\n      <th>ano</th>\n      <th></th>\n      <th></th>\n      <th></th>\n      <th></th>\n      <th></th>\n      <th></th>\n    </tr>\n  </thead>\n  <tbody>\n    <tr>\n      <th>2018</th>\n      <td>904.0</td>\n      <td>375.0</td>\n      <td>318.0</td>\n      <td>249.0</td>\n      <td>3.0</td>\n      <td>0.0</td>\n    </tr>\n  </tbody>\n</table>\n</div>"
     },
     "metadata": {},
     "execution_count": 117
    }
   ],
   "source": [
    "faixa_etaria_2018 = pd.DataFrame({\n",
    "    '18 a 24 anos': df_total_query.query('ano == 2018').groupby('ano')['quantidade_faixa_etaria_18_24_anos'].agg('sum'),\n",
    "    '25 a 29 anos': df_total_query.query('ano == 2018').groupby('ano')['quantidade_faixa_etaria_25_29_anos'].agg('sum'),\n",
    "    '30 a 34 anos': df_total_query.query('ano == 2018').groupby('ano')['quantidade_faixa_etaria_30_34_anos'].agg('sum'),\n",
    "    '35 a 45 anos': df_total_query.query('ano == 2018').groupby('ano')['quantidade_faixa_etaria_35_45'].agg('sum'),\n",
    "    '61 a 70 anos': df_total_query.query('ano == 2018').groupby('ano')['quantidade_faixa_etaria_61_70_anos'].agg('sum'),\n",
    "    'mais de 70 anos': df_total_query.query('ano == 2018').groupby('ano')['quantidade_faixa_etaria_mais_70_anos'].agg('sum'),\n",
    "})\n",
    "faixa_etaria_2018"
   ]
  },
  {
   "cell_type": "code",
   "execution_count": 118,
   "metadata": {},
   "outputs": [
    {
     "output_type": "execute_result",
     "data": {
      "text/plain": "      18 a 24 anos  25 a 29 anos  30 a 34 anos  35 a 45 anos  61 a 70 anos  \\\nano                                                                          \n2019         760.0         345.0         314.0         273.0           3.0   \n\n      mais de 70 anos  \nano                    \n2019              0.0  ",
      "text/html": "<div>\n<style scoped>\n    .dataframe tbody tr th:only-of-type {\n        vertical-align: middle;\n    }\n\n    .dataframe tbody tr th {\n        vertical-align: top;\n    }\n\n    .dataframe thead th {\n        text-align: right;\n    }\n</style>\n<table border=\"1\" class=\"dataframe\">\n  <thead>\n    <tr style=\"text-align: right;\">\n      <th></th>\n      <th>18 a 24 anos</th>\n      <th>25 a 29 anos</th>\n      <th>30 a 34 anos</th>\n      <th>35 a 45 anos</th>\n      <th>61 a 70 anos</th>\n      <th>mais de 70 anos</th>\n    </tr>\n    <tr>\n      <th>ano</th>\n      <th></th>\n      <th></th>\n      <th></th>\n      <th></th>\n      <th></th>\n      <th></th>\n    </tr>\n  </thead>\n  <tbody>\n    <tr>\n      <th>2019</th>\n      <td>760.0</td>\n      <td>345.0</td>\n      <td>314.0</td>\n      <td>273.0</td>\n      <td>3.0</td>\n      <td>0.0</td>\n    </tr>\n  </tbody>\n</table>\n</div>"
     },
     "metadata": {},
     "execution_count": 118
    }
   ],
   "source": [
    "faixa_etaria_2019 = pd.DataFrame({\n",
    "    '18 a 24 anos': df_total_query.query('ano == 2019').groupby('ano')['quantidade_faixa_etaria_18_24_anos'].agg('sum'),\n",
    "    '25 a 29 anos': df_total_query.query('ano == 2019').groupby('ano')['quantidade_faixa_etaria_25_29_anos'].agg('sum'),\n",
    "    '30 a 34 anos': df_total_query.query('ano == 2019').groupby('ano')['quantidade_faixa_etaria_30_34_anos'].agg('sum'),\n",
    "    '35 a 45 anos': df_total_query.query('ano == 2019').groupby('ano')['quantidade_faixa_etaria_35_45_anos'].agg('sum'),\n",
    "    '61 a 70 anos': df_total_query.query('ano == 2019').groupby('ano')['quantidade_faixa_etaria_61_70_anos'].agg('sum'),\n",
    "    'mais de 70 anos': df_total_query.query('ano == 2019').groupby('ano')['quantidade_faixa_etaria_mais_70_anos'].agg('sum'),\n",
    "})\n",
    "faixa_etaria_2019"
   ]
  },
  {
   "cell_type": "code",
   "execution_count": null,
   "metadata": {},
   "outputs": [],
   "source": []
  }
 ],
 "metadata": {
  "language_info": {
   "codemirror_mode": {
    "name": "ipython",
    "version": 3
   },
   "file_extension": ".py",
   "mimetype": "text/x-python",
   "name": "python",
   "nbconvert_exporter": "python",
   "pygments_lexer": "ipython3",
   "version": "3.6.9-final"
  },
  "orig_nbformat": 2,
  "kernelspec": {
   "name": "python36964bit5e9928bd67604c5c9191604d096e309a",
   "display_name": "Python 3.6.9 64-bit"
  }
 },
 "nbformat": 4,
 "nbformat_minor": 2
}