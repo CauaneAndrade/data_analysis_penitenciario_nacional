{
 "cells": [
  {
   "cell_type": "code",
   "execution_count": 2,
   "metadata": {},
   "outputs": [],
   "source": [
    "import pandas as pd\n",
    "low_memory=False"
   ]
  },
  {
   "cell_type": "code",
   "execution_count": 3,
   "metadata": {},
   "outputs": [],
   "source": [
    "dicionario = \\\n",
    "\"\"\"\n",
    "C = Nome do Estabelecimento\n",
    "K = Município\n",
    "\n",
    "N = 1.1 Estabelecimento originalmente destinado a pessoa privadas de liberdade do sexo\n",
    "\n",
    "# 1.3 Capacidade do estabelecimento\n",
    "AL = 1.3 Capacidade do estabelecimento | Masculino | Total\n",
    "AM = 1.3 Capacidade do estabelecimento | Feminino | Total\n",
    "\n",
    "PT = 4.1 População prisional | Total\n",
    "\n",
    "# 2.4 Módulo de saúde\n",
    "BO = 2.4 Módulo de saúde | Consultório médico | Quantidade\n",
    "BU = 2.4 Módulo de saúde | Sala de coleta de material para laboratório | Quantidade\n",
    "BX = 2.4 Módulo de saúde | Sala de curativos, suturas, vacinas e posto de enfermagem | Quantidade\n",
    "CA = 2.4 Módulo de saúde | Cela de observação | Quantidade\n",
    "CM = 2.4 Módulo de saúde | Farmácia ou sala de estoque/ dispensação de medicamentos | Quantidade\n",
    "CP = 2.4 Módulo de saúde | Central de material esterilizado/ expurgo | Quantidade\n",
    "CS = 2.4 Módulo de saúde | Sala de lavagem e descontaminação | Quantidade\n",
    "CV = 2.4 Módulo de saúde | Sala de esterilização | Quantidade\n",
    "DE = 2.4 Módulo de saúde | Sala de atendimento clínico multiprofissional | Quantidade\n",
    "DH = 2.4 Módulo de saúde | Sala de procedimentos | Quantidade\n",
    "DK = 2.4 Módulo de saúde | Sala de raio x | Quantidade\n",
    "DN = 2.4 Módulo de saúde | Laboratório de diagnóstico | Quantidade\n",
    "\n",
    "# 5.1 Quantidade de pessoas privadas de liberdade por faixa etária\n",
    "RF = 5.1 Quantidade de pessoas privadas de liberdade por faixa etária | 18 a 24 anos | Total\n",
    "RI = 5.1 Quantidade de pessoas privadas de liberdade por faixa etária | 25 a 29 anos | Total\n",
    "RL = 5.1 Quantidade de pessoas privadas de liberdade por faixa etária | 30 a 34 anos | Total\n",
    "RO = 5.1 Quantidade de pessoas privadas de liberdade por faixa etária | 35 a 45 anos | Total\n",
    "RR = 5.1 Quantidade de pessoas privadas de liberdade por faixa etária | 46 a 60 anos | Total\n",
    "RU = 5.1 Quantidade de pessoas privadas de liberdade por faixa etária | 61 a 70 anos | Total\n",
    "RX = 5.1 Quantidade de pessoas privadas de liberdade por faixa etária | Mais de 70 anos | Total\n",
    "\n",
    "# 3.1 Quantidade de Servidores que atuam no Sistema Prisional\n",
    "HM = 3.1 Quantidade de Servidores que atuam no Sistema Prisional | Enfermeiros | Total\n",
    "HW = 3.1 Quantidade de Servidores que atuam no Sistema Prisional | Auxiliar e técnico de enfermagem | Total\n",
    "IG = 3.1 Quantidade de Servidores que atuam no Sistema Prisional | Psicólogos | Total\n",
    "KE = 3.1 Quantidade de Servidores que atuam no Sistema Prisional | Médicos - clínicos gerais | Total\n",
    "KO = 3.1 Quantidade de Servidores que atuam no Sistema Prisional | Médicos – ginecologistas | Total\n",
    "KY = 3.1 Quantidade de Servidores que atuam no Sistema Prisional | Médicos – psiquiatras | Total\n",
    "LI = 3.1 Quantidade de Servidores que atuam no Sistema Prisional | Médicos - outras especialidades | Total\n",
    "\"\"\""
   ]
  },
  {
   "cell_type": "code",
   "execution_count": 4,
   "metadata": {},
   "outputs": [],
   "source": [
    "cols = \\\n",
    "\"\"\"\n",
    "C, K, N, AL, AM, PT,\n",
    "BO, BU, BX, CA, CM, CP, CS, CV, DB, DE, DH, DK, DN,\n",
    "RF, RI, RL, RO, RR, RU, RX, HM, HW, IG, KE, KO, KY, LI\n",
    "\"\"\""
   ]
  },
  {
   "cell_type": "code",
   "execution_count": 5,
   "metadata": {},
   "outputs": [],
   "source": [
    "df_jul_dez_2018 = pd.read_excel(\n",
    "    '../resources/infopen-jul-dez-2018.xlsx',\n",
    "    usecols=cols\n",
    ")\n",
    "\n",
    "df_jul_dez_2019 = pd.read_excel(\n",
    "    '../resources/infopen-jul-dez-2019.xlsx',\n",
    "    usecols=cols\n",
    ")"
   ]
  },
  {
   "cell_type": "code",
   "execution_count": 6,
   "metadata": {},
   "outputs": [],
   "source": [
    "df_jul_dez_2018['ano'] = 2018\n",
    "df_jul_dez_2019['ano'] = 2019"
   ]
  },
  {
   "cell_type": "code",
   "execution_count": 7,
   "metadata": {},
   "outputs": [],
   "source": [
    "frames = [df_jul_dez_2018, df_jul_dez_2019]\n",
    "df_total = pd.concat(frames)"
   ]
  },
  {
   "cell_type": "code",
   "execution_count": 8,
   "metadata": {},
   "outputs": [],
   "source": [
    "df_total.rename(\n",
    "    columns={\n",
    "        'Nome do Estabelecimento': 'nome_estabelecimento',\n",
    "        'Município': 'municipio',\n",
    "        '1.1 Estabelecimento originalmente destinado a pessoa privadas de liberdade do sexo': 'destinado_a_pessoa_do_sexo',\n",
    "        '1.3 Capacidade do estabelecimento | Masculino | Total': 'lotacao_total_masculino',\n",
    "        '1.3 Capacidade do estabelecimento | Feminino | Total': 'lotacao_total_feminino',\n",
    "\n",
    "        '2.4 Módulo de saúde | Consultório médico | Quantidade': 'modulo_saude_quantidade_consultorio_medico',\n",
    "        '2.4 Módulo de saúde | Sala de coleta de material para laboratório | Quantidade': 'modulo_saude_quantidade_sala_coleta_laboratorio',\n",
    "        '2.4 Módulo de saúde | Sala de curativos, suturas, vacinas e posto de enfermagem | Quantidade': 'modulo_saude_quantidade_posto_enfermagem',\n",
    "        '2.4 Módulo de saúde | Cela de observação | Quantidade': 'modulo_saude_quantidade_cela_observacao',\n",
    "        '2.4 Módulo de saúde | Farmácia ou sala de estoque/ dispensação de medicamentos | Quantidade': 'modulo_saude_quantidade_dispensacao_medicamentos',\n",
    "        '2.4 Módulo de saúde | Central de material esterilizado/ expurgo | Quantidade': 'modulo_saude_quantidade_expurgo',\n",
    "        '2.4 Módulo de saúde | Sala de lavagem e descontaminação | Quantidade': 'modulo_saude_quantidade_sala_descontaminacao',\n",
    "        '2.4 Módulo de saúde | Sala de esterilização | Quantidade': 'modulo_saude_quantidade_sala_esterilizacao',\n",
    "        '2.4 Módulo de saúde | Sala de atendimento clínico multiprofissional | Quantidade': 'modulo_saude_quantidade_sala_atendimento_clinico_multiprofissional',\n",
    "        '2.4 Módulo de saúde | Sala de procedimentos | Quantidade': 'modulo_saude_quantidade_sala_procedimentos',\n",
    "        '2.4 Módulo de saúde | Sala de raio x | Quantidade': 'modulo_saude_quantidade_sala_raio_x',\n",
    "        '2.4 Módulo de saúde | Laboratório de diagnóstico | Quantidade': 'modulo_saude_quantidade_laboratorio_diagnostico',\n",
    "\n",
    "        '3.1 Quantidade de Servidores que atuam no Sistema Prisional | Auxiliar e técnico de enfermagem | Total': 'qtd_auxiliares_e_tec_enfermagem',\n",
    "        '3.1 Quantidade de Servidores que atuam no Sistema Prisional | Psicólogos | Total': 'qtd_psicologos',\n",
    "        '3.1 Quantidade de Servidores que atuam no Sistema Prisional | Médicos - clínicos gerais | Total': 'qtd_clinicos_gerais',\n",
    "        '3.1 Quantidade de Servidores que atuam no Sistema Prisional | Médicos – ginecologistas | Total': 'qtd_ginecologistas',\n",
    "        '3.1 Quantidade de Servidores que atuam no Sistema Prisional | Médicos – psiquiatras | Total': 'qtd_psiquiatras',\n",
    "        '3.1 Quantidade de Servidores que atuam no Sistema Prisional | Médicos - outras especialidades | Total': 'qtd_outras_especialidades',\n",
    "\n",
    "        '4.1 População prisional | Total': 'quantidade_populacao_prisional',\n",
    "        '5.1 Quantidade de pessoas privadas de liberdade por faixa etária | 18 a 24 anos | Total': 'quantidade_faixa_etaria_18_24_anos',\n",
    "        '5.1 Quantidade de pessoas privadas de liberdade por faixa etária | 25 a 29 anos | Total': 'quantidade_faixa_etaria_25_29_anos',\n",
    "        '5.1 Quantidade de pessoas privadas de liberdade por faixa etária | 30 a 34 anos | Total': 'quantidade_faixa_etaria_30_34_anos',\n",
    "        '5.1 Quantidade de pessoas privadas de liberdade por faixa etária | 35 a 45 anos | Total': 'quantidade_faixa_etaria_35_45_anos',\n",
    "        '5.1 Quantidade de pessoas privadas de liberdade por faixa etária | 46 a 60 anos | Total': 'quantidade_faixa_etaria_46_60_anos',\n",
    "        '5.1 Quantidade de pessoas privadas de liberdade por faixa etária | 61 a 70 anos | Total': 'quantidade_faixa_etaria_61_70_anos',\n",
    "        '5.1 Quantidade de pessoas privadas de liberdade por faixa etária | Mais de 70 anos | Total': 'quantidade_faixa_etaria_mais_70_anos',\n",
    "    },\n",
    "    inplace=True\n",
    ")"
   ]
  },
  {
   "cell_type": "code",
   "execution_count": 9,
   "metadata": {},
   "outputs": [],
   "source": [
    "df_cdp_query = df_total.query(\n",
    "    'municipio == \"São José dos Campos\" and \\\n",
    "    nome_estabelecimento == \"CDP de São José dos Campos\"'\n",
    ")\n",
    "\n",
    "df_crf_query = df_total.query(\n",
    "    'municipio == \"São José dos Campos\" and \\\n",
    "    nome_estabelecimento == \"Centro de Ressocialização Feminino de São José dos Campos + ARSA\"'\n",
    ")"
   ]
  },
  {
   "cell_type": "code",
   "execution_count": 10,
   "metadata": {},
   "outputs": [],
   "source": [
    "faixa_etaria_quantidade = [\n",
    "        ('18 a 24 anos', 'quantidade_faixa_etaria_18_24_anos'),\n",
    "        ('25 a 29 anos', 'quantidade_faixa_etaria_25_29_anos'),\n",
    "        ('30 a 34 anos', 'quantidade_faixa_etaria_30_34_anos'),\n",
    "        ('35 a 45 anos', 'quantidade_faixa_etaria_35_45_anos'),\n",
    "        ('61 a 70 anos', 'quantidade_faixa_etaria_61_70_anos'),\n",
    "        ('mais de 70 anos', 'quantidade_faixa_etaria_mais_70_anos'),\n",
    "        ('Total em privação de liberdade', 'quantidade_populacao_prisional'),\n",
    "        ('Capacidade máxima do CDP', 'lotacao_total_masculino'),\n",
    "        ('Capacidade máxima do Centro de Ressocialização Feminino ', 'lotacao_total_feminino'),\n",
    "    ]\n",
    "modulo_saude_quantidade = [\n",
    "        ('Quantidade consultórios médicos', 'modulo_saude_quantidade_consultorio_medico'),\n",
    "        ('Quantidade de salas de coleta para laboratório', 'modulo_saude_quantidade_sala_coleta_laboratorio'),\n",
    "        ('Quantidade de curativos, suturas, vacinas e posto de enfermagem', 'modulo_saude_quantidade_posto_enfermagem'),\n",
    "        ('Quantidade de celas de observação', 'modulo_saude_quantidade_cela_observacao'),\n",
    "        ('Quantidade Farmácia ou sala de estoque/ dispensação de medicamentos', 'modulo_saude_quantidade_dispensacao_medicamentos'),\n",
    "        ('Quantidade Central de material esterilizado/ expurgo', 'modulo_saude_quantidade_expurgo'),\n",
    "        ('Quantidade Sala de lavagem e descontaminação', 'modulo_saude_quantidade_sala_descontaminacao'),\n",
    "        ('Quantidade Sala de esterilização', 'modulo_saude_quantidade_sala_esterilizacao'),\n",
    "        ('Quantidade Sala de atendimento clínico multiprofissional', 'modulo_saude_quantidade_sala_atendimento_clinico_multiprofissional'),\n",
    "        ('Quantidade Sala de procedimentos', 'modulo_saude_quantidade_sala_procedimentos'),\n",
    "        ('Quantidade Sala de raio x', 'modulo_saude_quantidade_sala_raio_x'),\n",
    "        ('Quantidade Laboratório de diagnóstico', 'modulo_saude_quantidade_laboratorio_diagnostico'),\n",
    "        ('Quantidade de Servidores que atuam no Sistema Prisional - Auxiliar e técnico de enfermagem', 'qtd_auxiliares_e_tec_enfermagem'),\n",
    "        ('Quantidade de Servidores que atuam no Sistema Prisional - Psicólogos', 'qtd_psicologos'),\n",
    "        ('Quantidade de Servidores que atuam no Sistema Prisional - Clínicos gerais', 'qtd_clinicos_gerais'),\n",
    "        ('Quantidade de Servidores que atuam no Sistema Prisional - Ginecologistas', 'qtd_ginecologistas'),\n",
    "        ('Quantidade de Servidores que atuam no Sistema Prisional - Psiquiatras', 'qtd_psiquiatras'),\n",
    "        ('Quantidade de Servidores que atuam no Sistema Prisional - Outras especialidades', 'qtd_outras_especialidades')\n",
    "    ]\n",
    "\n",
    "def retorna_tabela_quantidade(itens: list, df_query):\n",
    "    dic = {}\n",
    "    cols = []\n",
    "    for i in itens:\n",
    "        dic[i[0]] = [\n",
    "            df_query.query('ano == 2018').groupby('ano')[i[1]].agg('sum').values[0],\n",
    "            df_query.query('ano == 2019').groupby('ano')[i[1]].agg('sum').values[0]\n",
    "        ]\n",
    "        cols.append(i[0])\n",
    "    df = pd.DataFrame(dic)\n",
    "    df.index = ['2018', '2019']\n",
    "    df = df[cols]\n",
    "    return df"
   ]
  },
  {
   "cell_type": "code",
   "execution_count": 11,
   "metadata": {
    "tags": []
   },
   "outputs": [
    {
     "output_type": "stream",
     "name": "stdout",
     "text": "CDP de São José dos Campos\n"
    },
    {
     "output_type": "execute_result",
     "data": {
      "text/plain": "      18 a 24 anos  25 a 29 anos  30 a 34 anos  35 a 45 anos  61 a 70 anos  \\\n2018         410.0         170.0         155.0         128.0           1.0   \n2019         367.0         161.0         136.0         135.0           2.0   \n\n      mais de 70 anos  Total em privação de liberdade  \\\n2018              0.0                             900   \n2019              0.0                             827   \n\n      Capacidade máxima do CDP  \\\n2018                     525.0   \n2019                     525.0   \n\n      Capacidade máxima do Centro de Ressocialização Feminino   \n2018                                                0.0         \n2019                                                0.0         ",
      "text/html": "<div>\n<style scoped>\n    .dataframe tbody tr th:only-of-type {\n        vertical-align: middle;\n    }\n\n    .dataframe tbody tr th {\n        vertical-align: top;\n    }\n\n    .dataframe thead th {\n        text-align: right;\n    }\n</style>\n<table border=\"1\" class=\"dataframe\">\n  <thead>\n    <tr style=\"text-align: right;\">\n      <th></th>\n      <th>18 a 24 anos</th>\n      <th>25 a 29 anos</th>\n      <th>30 a 34 anos</th>\n      <th>35 a 45 anos</th>\n      <th>61 a 70 anos</th>\n      <th>mais de 70 anos</th>\n      <th>Total em privação de liberdade</th>\n      <th>Capacidade máxima do CDP</th>\n      <th>Capacidade máxima do Centro de Ressocialização Feminino</th>\n    </tr>\n  </thead>\n  <tbody>\n    <tr>\n      <th>2018</th>\n      <td>410.0</td>\n      <td>170.0</td>\n      <td>155.0</td>\n      <td>128.0</td>\n      <td>1.0</td>\n      <td>0.0</td>\n      <td>900</td>\n      <td>525.0</td>\n      <td>0.0</td>\n    </tr>\n    <tr>\n      <th>2019</th>\n      <td>367.0</td>\n      <td>161.0</td>\n      <td>136.0</td>\n      <td>135.0</td>\n      <td>2.0</td>\n      <td>0.0</td>\n      <td>827</td>\n      <td>525.0</td>\n      <td>0.0</td>\n    </tr>\n  </tbody>\n</table>\n</div>"
     },
     "metadata": {},
     "execution_count": 11
    }
   ],
   "source": [
    "faixa_etaria_cdp = retorna_tabela_quantidade(faixa_etaria_quantidade, df_cdp_query)\n",
    "print('CDP de São José dos Campos')\n",
    "faixa_etaria_cdp"
   ]
  },
  {
   "cell_type": "code",
   "execution_count": 12,
   "metadata": {
    "tags": []
   },
   "outputs": [
    {
     "output_type": "stream",
     "name": "stdout",
     "text": "CDP de São José dos Campos\n"
    },
    {
     "output_type": "execute_result",
     "data": {
      "text/plain": "      Quantidade consultórios médicos  \\\n2018                              1.0   \n2019                              1.0   \n\n      Quantidade de salas de coleta para laboratório  \\\n2018                                             1.0   \n2019                                             1.0   \n\n      Quantidade de curativos, suturas, vacinas e posto de enfermagem  \\\n2018                                                1.0                 \n2019                                                1.0                 \n\n      Quantidade de celas de observação  \\\n2018                                2.0   \n2019                                2.0   \n\n      Quantidade Farmácia ou sala de estoque/ dispensação de medicamentos  \\\n2018                                                1.0                     \n2019                                                1.0                     \n\n      Quantidade Central de material esterilizado/ expurgo  \\\n2018                                                0.0      \n2019                                                1.0      \n\n      Quantidade Sala de lavagem e descontaminação  \\\n2018                                           0.0   \n2019                                           0.0   \n\n      Quantidade Sala de esterilização  \\\n2018                               1.0   \n2019                               1.0   \n\n      Quantidade Sala de atendimento clínico multiprofissional  \\\n2018                                                1.0          \n2019                                                1.0          \n\n      Quantidade Sala de procedimentos  Quantidade Sala de raio x  \\\n2018                               0.0                        0.0   \n2019                               0.0                        0.0   \n\n      Quantidade Laboratório de diagnóstico  \\\n2018                                    0.0   \n2019                                    0.0   \n\n      Quantidade de Servidores que atuam no Sistema Prisional - Auxiliar e técnico de enfermagem  \\\n2018                                                3.0                                            \n2019                                                3.0                                            \n\n      Quantidade de Servidores que atuam no Sistema Prisional - Psicólogos  \\\n2018                                                2.0                      \n2019                                                2.0                      \n\n      Quantidade de Servidores que atuam no Sistema Prisional - Clínicos gerais  \\\n2018                                                1.0                           \n2019                                                1.0                           \n\n      Quantidade de Servidores que atuam no Sistema Prisional - Ginecologistas  \\\n2018                                                0.0                          \n2019                                                0.0                          \n\n      Quantidade de Servidores que atuam no Sistema Prisional - Psiquiatras  \\\n2018                                                0.0                       \n2019                                                0.0                       \n\n      Quantidade de Servidores que atuam no Sistema Prisional - Outras especialidades  \n2018                                                0.0                                \n2019                                                0.0                                ",
      "text/html": "<div>\n<style scoped>\n    .dataframe tbody tr th:only-of-type {\n        vertical-align: middle;\n    }\n\n    .dataframe tbody tr th {\n        vertical-align: top;\n    }\n\n    .dataframe thead th {\n        text-align: right;\n    }\n</style>\n<table border=\"1\" class=\"dataframe\">\n  <thead>\n    <tr style=\"text-align: right;\">\n      <th></th>\n      <th>Quantidade consultórios médicos</th>\n      <th>Quantidade de salas de coleta para laboratório</th>\n      <th>Quantidade de curativos, suturas, vacinas e posto de enfermagem</th>\n      <th>Quantidade de celas de observação</th>\n      <th>Quantidade Farmácia ou sala de estoque/ dispensação de medicamentos</th>\n      <th>Quantidade Central de material esterilizado/ expurgo</th>\n      <th>Quantidade Sala de lavagem e descontaminação</th>\n      <th>Quantidade Sala de esterilização</th>\n      <th>Quantidade Sala de atendimento clínico multiprofissional</th>\n      <th>Quantidade Sala de procedimentos</th>\n      <th>Quantidade Sala de raio x</th>\n      <th>Quantidade Laboratório de diagnóstico</th>\n      <th>Quantidade de Servidores que atuam no Sistema Prisional - Auxiliar e técnico de enfermagem</th>\n      <th>Quantidade de Servidores que atuam no Sistema Prisional - Psicólogos</th>\n      <th>Quantidade de Servidores que atuam no Sistema Prisional - Clínicos gerais</th>\n      <th>Quantidade de Servidores que atuam no Sistema Prisional - Ginecologistas</th>\n      <th>Quantidade de Servidores que atuam no Sistema Prisional - Psiquiatras</th>\n      <th>Quantidade de Servidores que atuam no Sistema Prisional - Outras especialidades</th>\n    </tr>\n  </thead>\n  <tbody>\n    <tr>\n      <th>2018</th>\n      <td>1.0</td>\n      <td>1.0</td>\n      <td>1.0</td>\n      <td>2.0</td>\n      <td>1.0</td>\n      <td>0.0</td>\n      <td>0.0</td>\n      <td>1.0</td>\n      <td>1.0</td>\n      <td>0.0</td>\n      <td>0.0</td>\n      <td>0.0</td>\n      <td>3.0</td>\n      <td>2.0</td>\n      <td>1.0</td>\n      <td>0.0</td>\n      <td>0.0</td>\n      <td>0.0</td>\n    </tr>\n    <tr>\n      <th>2019</th>\n      <td>1.0</td>\n      <td>1.0</td>\n      <td>1.0</td>\n      <td>2.0</td>\n      <td>1.0</td>\n      <td>1.0</td>\n      <td>0.0</td>\n      <td>1.0</td>\n      <td>1.0</td>\n      <td>0.0</td>\n      <td>0.0</td>\n      <td>0.0</td>\n      <td>3.0</td>\n      <td>2.0</td>\n      <td>1.0</td>\n      <td>0.0</td>\n      <td>0.0</td>\n      <td>0.0</td>\n    </tr>\n  </tbody>\n</table>\n</div>"
     },
     "metadata": {},
     "execution_count": 12
    }
   ],
   "source": [
    "modulo_saude_cpd = retorna_tabela_quantidade(modulo_saude_quantidade, df_cdp_query)\n",
    "print('CDP de São José dos Campos')\n",
    "modulo_saude_cpd"
   ]
  },
  {
   "cell_type": "code",
   "execution_count": 13,
   "metadata": {
    "tags": []
   },
   "outputs": [
    {
     "output_type": "stream",
     "name": "stdout",
     "text": "Centro de Ressocialização Feminino de São José dos Campos + ARSA\n"
    },
    {
     "output_type": "execute_result",
     "data": {
      "text/plain": "      18 a 24 anos  25 a 29 anos  30 a 34 anos  35 a 45 anos  61 a 70 anos  \\\n2018          32.0          27.0          37.0          51.0           0.0   \n2019           9.0           3.0           7.0          20.0           2.0   \n\n      mais de 70 anos  Total em privação de liberdade  \\\n2018              1.0                             171   \n2019              0.0                              50   \n\n      Capacidade máxima do CDP  \\\n2018                       0.0   \n2019                       0.0   \n\n      Capacidade máxima do Centro de Ressocialização Feminino   \n2018                                              183.0         \n2019                                              183.0         ",
      "text/html": "<div>\n<style scoped>\n    .dataframe tbody tr th:only-of-type {\n        vertical-align: middle;\n    }\n\n    .dataframe tbody tr th {\n        vertical-align: top;\n    }\n\n    .dataframe thead th {\n        text-align: right;\n    }\n</style>\n<table border=\"1\" class=\"dataframe\">\n  <thead>\n    <tr style=\"text-align: right;\">\n      <th></th>\n      <th>18 a 24 anos</th>\n      <th>25 a 29 anos</th>\n      <th>30 a 34 anos</th>\n      <th>35 a 45 anos</th>\n      <th>61 a 70 anos</th>\n      <th>mais de 70 anos</th>\n      <th>Total em privação de liberdade</th>\n      <th>Capacidade máxima do CDP</th>\n      <th>Capacidade máxima do Centro de Ressocialização Feminino</th>\n    </tr>\n  </thead>\n  <tbody>\n    <tr>\n      <th>2018</th>\n      <td>32.0</td>\n      <td>27.0</td>\n      <td>37.0</td>\n      <td>51.0</td>\n      <td>0.0</td>\n      <td>1.0</td>\n      <td>171</td>\n      <td>0.0</td>\n      <td>183.0</td>\n    </tr>\n    <tr>\n      <th>2019</th>\n      <td>9.0</td>\n      <td>3.0</td>\n      <td>7.0</td>\n      <td>20.0</td>\n      <td>2.0</td>\n      <td>0.0</td>\n      <td>50</td>\n      <td>0.0</td>\n      <td>183.0</td>\n    </tr>\n  </tbody>\n</table>\n</div>"
     },
     "metadata": {},
     "execution_count": 13
    }
   ],
   "source": [
    "faixa_etaria_crf = retorna_tabela_quantidade(faixa_etaria_quantidade, df_crf_query)\n",
    "print('Centro de Ressocialização Feminino de São José dos Campos + ARSA')\n",
    "faixa_etaria_crf"
   ]
  },
  {
   "cell_type": "code",
   "execution_count": 14,
   "metadata": {
    "tags": []
   },
   "outputs": [
    {
     "output_type": "stream",
     "name": "stdout",
     "text": "Centro de Ressocialização Feminino de São José dos Campos + ARSA\n"
    },
    {
     "output_type": "execute_result",
     "data": {
      "text/plain": "      Quantidade consultórios médicos  \\\n2018                              1.0   \n2019                              1.0   \n\n      Quantidade de salas de coleta para laboratório  \\\n2018                                             0.0   \n2019                                             1.0   \n\n      Quantidade de curativos, suturas, vacinas e posto de enfermagem  \\\n2018                                                1.0                 \n2019                                                1.0                 \n\n      Quantidade de celas de observação  \\\n2018                                1.0   \n2019                                1.0   \n\n      Quantidade Farmácia ou sala de estoque/ dispensação de medicamentos  \\\n2018                                                1.0                     \n2019                                                1.0                     \n\n      Quantidade Central de material esterilizado/ expurgo  \\\n2018                                                0.0      \n2019                                                0.0      \n\n      Quantidade Sala de lavagem e descontaminação  \\\n2018                                           0.0   \n2019                                           0.0   \n\n      Quantidade Sala de esterilização  \\\n2018                               0.0   \n2019                               0.0   \n\n      Quantidade Sala de atendimento clínico multiprofissional  \\\n2018                                                1.0          \n2019                                                1.0          \n\n      Quantidade Sala de procedimentos  Quantidade Sala de raio x  \\\n2018                               1.0                        0.0   \n2019                               1.0                        0.0   \n\n      Quantidade Laboratório de diagnóstico  \\\n2018                                    0.0   \n2019                                    0.0   \n\n      Quantidade de Servidores que atuam no Sistema Prisional - Auxiliar e técnico de enfermagem  \\\n2018                                                0.0                                            \n2019                                                0.0                                            \n\n      Quantidade de Servidores que atuam no Sistema Prisional - Psicólogos  \\\n2018                                                1.0                      \n2019                                                1.0                      \n\n      Quantidade de Servidores que atuam no Sistema Prisional - Clínicos gerais  \\\n2018                                                0.0                           \n2019                                                0.0                           \n\n      Quantidade de Servidores que atuam no Sistema Prisional - Ginecologistas  \\\n2018                                                0.0                          \n2019                                                0.0                          \n\n      Quantidade de Servidores que atuam no Sistema Prisional - Psiquiatras  \\\n2018                                                0.0                       \n2019                                                0.0                       \n\n      Quantidade de Servidores que atuam no Sistema Prisional - Outras especialidades  \n2018                                                0.0                                \n2019                                                0.0                                ",
      "text/html": "<div>\n<style scoped>\n    .dataframe tbody tr th:only-of-type {\n        vertical-align: middle;\n    }\n\n    .dataframe tbody tr th {\n        vertical-align: top;\n    }\n\n    .dataframe thead th {\n        text-align: right;\n    }\n</style>\n<table border=\"1\" class=\"dataframe\">\n  <thead>\n    <tr style=\"text-align: right;\">\n      <th></th>\n      <th>Quantidade consultórios médicos</th>\n      <th>Quantidade de salas de coleta para laboratório</th>\n      <th>Quantidade de curativos, suturas, vacinas e posto de enfermagem</th>\n      <th>Quantidade de celas de observação</th>\n      <th>Quantidade Farmácia ou sala de estoque/ dispensação de medicamentos</th>\n      <th>Quantidade Central de material esterilizado/ expurgo</th>\n      <th>Quantidade Sala de lavagem e descontaminação</th>\n      <th>Quantidade Sala de esterilização</th>\n      <th>Quantidade Sala de atendimento clínico multiprofissional</th>\n      <th>Quantidade Sala de procedimentos</th>\n      <th>Quantidade Sala de raio x</th>\n      <th>Quantidade Laboratório de diagnóstico</th>\n      <th>Quantidade de Servidores que atuam no Sistema Prisional - Auxiliar e técnico de enfermagem</th>\n      <th>Quantidade de Servidores que atuam no Sistema Prisional - Psicólogos</th>\n      <th>Quantidade de Servidores que atuam no Sistema Prisional - Clínicos gerais</th>\n      <th>Quantidade de Servidores que atuam no Sistema Prisional - Ginecologistas</th>\n      <th>Quantidade de Servidores que atuam no Sistema Prisional - Psiquiatras</th>\n      <th>Quantidade de Servidores que atuam no Sistema Prisional - Outras especialidades</th>\n    </tr>\n  </thead>\n  <tbody>\n    <tr>\n      <th>2018</th>\n      <td>1.0</td>\n      <td>0.0</td>\n      <td>1.0</td>\n      <td>1.0</td>\n      <td>1.0</td>\n      <td>0.0</td>\n      <td>0.0</td>\n      <td>0.0</td>\n      <td>1.0</td>\n      <td>1.0</td>\n      <td>0.0</td>\n      <td>0.0</td>\n      <td>0.0</td>\n      <td>1.0</td>\n      <td>0.0</td>\n      <td>0.0</td>\n      <td>0.0</td>\n      <td>0.0</td>\n    </tr>\n    <tr>\n      <th>2019</th>\n      <td>1.0</td>\n      <td>1.0</td>\n      <td>1.0</td>\n      <td>1.0</td>\n      <td>1.0</td>\n      <td>0.0</td>\n      <td>0.0</td>\n      <td>0.0</td>\n      <td>1.0</td>\n      <td>1.0</td>\n      <td>0.0</td>\n      <td>0.0</td>\n      <td>0.0</td>\n      <td>1.0</td>\n      <td>0.0</td>\n      <td>0.0</td>\n      <td>0.0</td>\n      <td>0.0</td>\n    </tr>\n  </tbody>\n</table>\n</div>"
     },
     "metadata": {},
     "execution_count": 14
    }
   ],
   "source": [
    "modulo_saude_crf = retorna_tabela_quantidade(modulo_saude_quantidade, df_crf_query)\n",
    "print('Centro de Ressocialização Feminino de São José dos Campos + ARSA')\n",
    "modulo_saude_crf"
   ]
  },
  {
   "cell_type": "code",
   "execution_count": null,
   "metadata": {},
   "outputs": [],
   "source": []
  }
 ],
 "metadata": {
  "language_info": {
   "codemirror_mode": {
    "name": "ipython",
    "version": 3
   },
   "file_extension": ".py",
   "mimetype": "text/x-python",
   "name": "python",
   "nbconvert_exporter": "python",
   "pygments_lexer": "ipython3",
   "version": "3.6.9-final"
  },
  "orig_nbformat": 2,
  "kernelspec": {
   "name": "python36964bit5e9928bd67604c5c9191604d096e309a",
   "display_name": "Python 3.6.9 64-bit"
  }
 },
 "nbformat": 4,
 "nbformat_minor": 2
}